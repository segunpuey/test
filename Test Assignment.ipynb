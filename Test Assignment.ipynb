{
 "cells": [
  {
   "cell_type": "markdown",
   "id": "1ef7068c-b39f-4756-80e9-120e0603b34a",
   "metadata": {},
   "source": [
    "# DS/DA Instructor Test Assignment"
   ]
  },
  {
   "cell_type": "code",
   "execution_count": 175,
   "id": "16408f50-7a50-4a31-be35-ba0f00c1e21c",
   "metadata": {},
   "outputs": [],
   "source": [
    "import pandas as pd"
   ]
  },
  {
   "cell_type": "markdown",
   "id": "46262866-511b-4fe8-8b13-fceeaa025c52",
   "metadata": {},
   "source": [
    "### Task 1. Working with data"
   ]
  },
  {
   "cell_type": "markdown",
   "id": "117b7f3e-ba2b-4fc1-a1d7-5ea9092083e1",
   "metadata": {},
   "source": [
    "#### 1.1. Download the data set movie_metadata.csv, which contains data about films from IMDb (Internet Movie Database)."
   ]
  },
  {
   "cell_type": "code",
   "execution_count": 176,
   "id": "d36382c9-518c-48e3-9202-f4072b9b2714",
   "metadata": {},
   "outputs": [
    {
     "data": {
      "text/html": [
       "<div>\n",
       "<style scoped>\n",
       "    .dataframe tbody tr th:only-of-type {\n",
       "        vertical-align: middle;\n",
       "    }\n",
       "\n",
       "    .dataframe tbody tr th {\n",
       "        vertical-align: top;\n",
       "    }\n",
       "\n",
       "    .dataframe thead th {\n",
       "        text-align: right;\n",
       "    }\n",
       "</style>\n",
       "<table border=\"1\" class=\"dataframe\">\n",
       "  <thead>\n",
       "    <tr style=\"text-align: right;\">\n",
       "      <th></th>\n",
       "      <th>color</th>\n",
       "      <th>director_name</th>\n",
       "      <th>num_critic_for_reviews</th>\n",
       "      <th>duration</th>\n",
       "      <th>director_facebook_likes</th>\n",
       "      <th>actor_3_facebook_likes</th>\n",
       "      <th>actor_2_name</th>\n",
       "      <th>actor_1_facebook_likes</th>\n",
       "      <th>gross</th>\n",
       "      <th>genres</th>\n",
       "      <th>...</th>\n",
       "      <th>num_user_for_reviews</th>\n",
       "      <th>language</th>\n",
       "      <th>country</th>\n",
       "      <th>content_rating</th>\n",
       "      <th>budget</th>\n",
       "      <th>title_year</th>\n",
       "      <th>actor_2_facebook_likes</th>\n",
       "      <th>imdb_score</th>\n",
       "      <th>aspect_ratio</th>\n",
       "      <th>movie_facebook_likes</th>\n",
       "    </tr>\n",
       "  </thead>\n",
       "  <tbody>\n",
       "    <tr>\n",
       "      <th>0</th>\n",
       "      <td>Color</td>\n",
       "      <td>James Cameron</td>\n",
       "      <td>723.0</td>\n",
       "      <td>178.0</td>\n",
       "      <td>0.0</td>\n",
       "      <td>855.0</td>\n",
       "      <td>Joel David Moore</td>\n",
       "      <td>1000.0</td>\n",
       "      <td>760505847.0</td>\n",
       "      <td>Action|Adventure|Fantasy|Sci-Fi</td>\n",
       "      <td>...</td>\n",
       "      <td>3054.0</td>\n",
       "      <td>English</td>\n",
       "      <td>USA</td>\n",
       "      <td>PG-13</td>\n",
       "      <td>237000000.0$</td>\n",
       "      <td>2009.0</td>\n",
       "      <td>936.0</td>\n",
       "      <td>7.9</td>\n",
       "      <td>1.78</td>\n",
       "      <td>33000</td>\n",
       "    </tr>\n",
       "    <tr>\n",
       "      <th>1</th>\n",
       "      <td>Color</td>\n",
       "      <td>Gore Verbinski</td>\n",
       "      <td>302.0</td>\n",
       "      <td>169.0</td>\n",
       "      <td>563.0</td>\n",
       "      <td>1000.0</td>\n",
       "      <td>Orlando Bloom</td>\n",
       "      <td>40000.0</td>\n",
       "      <td>309404152.0</td>\n",
       "      <td>Action|Adventure|Fantasy</td>\n",
       "      <td>...</td>\n",
       "      <td>1238.0</td>\n",
       "      <td>English</td>\n",
       "      <td>USA</td>\n",
       "      <td>PG-13</td>\n",
       "      <td>300000000.0$</td>\n",
       "      <td>2007.0</td>\n",
       "      <td>5000.0</td>\n",
       "      <td>7.1</td>\n",
       "      <td>2.35</td>\n",
       "      <td>0</td>\n",
       "    </tr>\n",
       "    <tr>\n",
       "      <th>2</th>\n",
       "      <td>Color</td>\n",
       "      <td>Sam Mendes</td>\n",
       "      <td>602.0</td>\n",
       "      <td>148.0</td>\n",
       "      <td>0.0</td>\n",
       "      <td>161.0</td>\n",
       "      <td>Rory Kinnear</td>\n",
       "      <td>11000.0</td>\n",
       "      <td>200074175.0</td>\n",
       "      <td>Action|Adventure|Thriller</td>\n",
       "      <td>...</td>\n",
       "      <td>994.0</td>\n",
       "      <td>English</td>\n",
       "      <td>UK</td>\n",
       "      <td>PG-13</td>\n",
       "      <td>245000000.0$</td>\n",
       "      <td>2015.0</td>\n",
       "      <td>393.0</td>\n",
       "      <td>6.8</td>\n",
       "      <td>2.35</td>\n",
       "      <td>85000</td>\n",
       "    </tr>\n",
       "    <tr>\n",
       "      <th>3</th>\n",
       "      <td>Color</td>\n",
       "      <td>Christopher Nolan</td>\n",
       "      <td>813.0</td>\n",
       "      <td>164.0</td>\n",
       "      <td>22000.0</td>\n",
       "      <td>23000.0</td>\n",
       "      <td>Christian Bale</td>\n",
       "      <td>27000.0</td>\n",
       "      <td>448130642.0</td>\n",
       "      <td>Action|Thriller</td>\n",
       "      <td>...</td>\n",
       "      <td>2701.0</td>\n",
       "      <td>English</td>\n",
       "      <td>USA</td>\n",
       "      <td>PG-13</td>\n",
       "      <td>250000000.0$</td>\n",
       "      <td>2012.0</td>\n",
       "      <td>23000.0</td>\n",
       "      <td>8.5</td>\n",
       "      <td>2.35</td>\n",
       "      <td>164000</td>\n",
       "    </tr>\n",
       "    <tr>\n",
       "      <th>4</th>\n",
       "      <td>NaN</td>\n",
       "      <td>Doug Walker</td>\n",
       "      <td>NaN</td>\n",
       "      <td>NaN</td>\n",
       "      <td>131.0</td>\n",
       "      <td>NaN</td>\n",
       "      <td>Rob Walker</td>\n",
       "      <td>131.0</td>\n",
       "      <td>NaN</td>\n",
       "      <td>Documentary</td>\n",
       "      <td>...</td>\n",
       "      <td>NaN</td>\n",
       "      <td>NaN</td>\n",
       "      <td>NaN</td>\n",
       "      <td>NaN</td>\n",
       "      <td>0.0$</td>\n",
       "      <td>NaN</td>\n",
       "      <td>12.0</td>\n",
       "      <td>7.1</td>\n",
       "      <td>NaN</td>\n",
       "      <td>0</td>\n",
       "    </tr>\n",
       "  </tbody>\n",
       "</table>\n",
       "<p>5 rows × 28 columns</p>\n",
       "</div>"
      ],
      "text/plain": [
       "   color      director_name  num_critic_for_reviews  duration  \\\n",
       "0  Color      James Cameron                   723.0     178.0   \n",
       "1  Color     Gore Verbinski                   302.0     169.0   \n",
       "2  Color         Sam Mendes                   602.0     148.0   \n",
       "3  Color  Christopher Nolan                   813.0     164.0   \n",
       "4    NaN        Doug Walker                     NaN       NaN   \n",
       "\n",
       "   director_facebook_likes  actor_3_facebook_likes      actor_2_name  \\\n",
       "0                      0.0                   855.0  Joel David Moore   \n",
       "1                    563.0                  1000.0     Orlando Bloom   \n",
       "2                      0.0                   161.0      Rory Kinnear   \n",
       "3                  22000.0                 23000.0    Christian Bale   \n",
       "4                    131.0                     NaN        Rob Walker   \n",
       "\n",
       "   actor_1_facebook_likes        gross                           genres  ...  \\\n",
       "0                  1000.0  760505847.0  Action|Adventure|Fantasy|Sci-Fi  ...   \n",
       "1                 40000.0  309404152.0         Action|Adventure|Fantasy  ...   \n",
       "2                 11000.0  200074175.0        Action|Adventure|Thriller  ...   \n",
       "3                 27000.0  448130642.0                  Action|Thriller  ...   \n",
       "4                   131.0          NaN                      Documentary  ...   \n",
       "\n",
       "  num_user_for_reviews language  country  content_rating        budget  \\\n",
       "0               3054.0  English      USA           PG-13  237000000.0$   \n",
       "1               1238.0  English      USA           PG-13  300000000.0$   \n",
       "2                994.0  English       UK           PG-13  245000000.0$   \n",
       "3               2701.0  English      USA           PG-13  250000000.0$   \n",
       "4                  NaN      NaN      NaN             NaN          0.0$   \n",
       "\n",
       "   title_year actor_2_facebook_likes imdb_score  aspect_ratio  \\\n",
       "0      2009.0                  936.0        7.9          1.78   \n",
       "1      2007.0                 5000.0        7.1          2.35   \n",
       "2      2015.0                  393.0        6.8          2.35   \n",
       "3      2012.0                23000.0        8.5          2.35   \n",
       "4         NaN                   12.0        7.1           NaN   \n",
       "\n",
       "  movie_facebook_likes  \n",
       "0                33000  \n",
       "1                    0  \n",
       "2                85000  \n",
       "3               164000  \n",
       "4                    0  \n",
       "\n",
       "[5 rows x 28 columns]"
      ]
     },
     "execution_count": 176,
     "metadata": {},
     "output_type": "execute_result"
    }
   ],
   "source": [
    "IMDb_df = pd.read_csv(\"movie_metadata.csv\")\n",
    "IMDb_df.head()"
   ]
  },
  {
   "cell_type": "code",
   "execution_count": 177,
   "id": "95334619-0c92-4f88-823d-15f3e882aeed",
   "metadata": {},
   "outputs": [
    {
     "data": {
      "text/plain": [
       "Index(['color', 'director_name', 'num_critic_for_reviews', 'duration',\n",
       "       'director_facebook_likes', 'actor_3_facebook_likes', 'actor_2_name',\n",
       "       'actor_1_facebook_likes', 'gross', 'genres', 'actor_1_name',\n",
       "       'movie_title', 'num_voted_users', 'cast_total_facebook_likes',\n",
       "       'actor_3_name', 'facenumber_in_poster', 'plot_keywords',\n",
       "       'movie_imdb_link', 'num_user_for_reviews', 'language', 'country',\n",
       "       'content_rating', 'budget', 'title_year', 'actor_2_facebook_likes',\n",
       "       'imdb_score', 'aspect_ratio', 'movie_facebook_likes'],\n",
       "      dtype='object')"
      ]
     },
     "execution_count": 177,
     "metadata": {},
     "output_type": "execute_result"
    }
   ],
   "source": [
    "IMDb_df.columns"
   ]
  },
  {
   "cell_type": "code",
   "execution_count": 178,
   "id": "5874b386-bb13-4db9-a91c-cb4b559df170",
   "metadata": {},
   "outputs": [
    {
     "data": {
      "text/plain": [
       "(5043, 28)"
      ]
     },
     "execution_count": 178,
     "metadata": {},
     "output_type": "execute_result"
    }
   ],
   "source": [
    "IMDb_df.shape"
   ]
  },
  {
   "cell_type": "code",
   "execution_count": 179,
   "id": "92821f10-65c1-4fe8-9239-90cff11c40b5",
   "metadata": {
    "scrolled": true
   },
   "outputs": [
    {
     "data": {
      "text/plain": [
       "color                         object\n",
       "director_name                 object\n",
       "num_critic_for_reviews       float64\n",
       "duration                     float64\n",
       "director_facebook_likes      float64\n",
       "actor_3_facebook_likes       float64\n",
       "actor_2_name                  object\n",
       "actor_1_facebook_likes       float64\n",
       "gross                        float64\n",
       "genres                        object\n",
       "actor_1_name                  object\n",
       "movie_title                   object\n",
       "num_voted_users                int64\n",
       "cast_total_facebook_likes      int64\n",
       "actor_3_name                  object\n",
       "facenumber_in_poster         float64\n",
       "plot_keywords                 object\n",
       "movie_imdb_link               object\n",
       "num_user_for_reviews         float64\n",
       "language                      object\n",
       "country                       object\n",
       "content_rating                object\n",
       "budget                        object\n",
       "title_year                   float64\n",
       "actor_2_facebook_likes       float64\n",
       "imdb_score                   float64\n",
       "aspect_ratio                 float64\n",
       "movie_facebook_likes           int64\n",
       "dtype: object"
      ]
     },
     "execution_count": 179,
     "metadata": {},
     "output_type": "execute_result"
    }
   ],
   "source": [
    "IMDb_df.dtypes"
   ]
  },
  {
   "cell_type": "markdown",
   "id": "66b70dd4-c116-4ab8-a10b-2e80b7caeaf0",
   "metadata": {},
   "source": [
    "#### 1.2. The duration column contains data on the film length. How many missing values are there in this column?"
   ]
  },
  {
   "cell_type": "code",
   "execution_count": 180,
   "id": "85c97973-6f6c-4dba-9ba1-4f83bc2bfb7e",
   "metadata": {},
   "outputs": [
    {
     "data": {
      "text/plain": [
       "color                         True\n",
       "director_name                 True\n",
       "num_critic_for_reviews        True\n",
       "duration                      True\n",
       "director_facebook_likes       True\n",
       "actor_3_facebook_likes        True\n",
       "actor_2_name                  True\n",
       "actor_1_facebook_likes        True\n",
       "gross                         True\n",
       "genres                       False\n",
       "actor_1_name                  True\n",
       "movie_title                  False\n",
       "num_voted_users              False\n",
       "cast_total_facebook_likes    False\n",
       "actor_3_name                  True\n",
       "facenumber_in_poster          True\n",
       "plot_keywords                 True\n",
       "movie_imdb_link              False\n",
       "num_user_for_reviews          True\n",
       "language                      True\n",
       "country                       True\n",
       "content_rating                True\n",
       "budget                       False\n",
       "title_year                    True\n",
       "actor_2_facebook_likes        True\n",
       "imdb_score                   False\n",
       "aspect_ratio                  True\n",
       "movie_facebook_likes         False\n",
       "dtype: bool"
      ]
     },
     "execution_count": 180,
     "metadata": {},
     "output_type": "execute_result"
    }
   ],
   "source": [
    "#I would start by analyzing which columns have missing values?\n",
    "IMDb_df.isnull().any()"
   ]
  },
  {
   "cell_type": "code",
   "execution_count": 181,
   "id": "d0357bad-a083-44a7-aca2-9c23e10fe720",
   "metadata": {
    "scrolled": true
   },
   "outputs": [
    {
     "data": {
      "text/plain": [
       "color                         19\n",
       "director_name                104\n",
       "num_critic_for_reviews        50\n",
       "duration                      15\n",
       "director_facebook_likes      104\n",
       "actor_3_facebook_likes        23\n",
       "actor_2_name                  13\n",
       "actor_1_facebook_likes         7\n",
       "gross                        884\n",
       "genres                         0\n",
       "actor_1_name                   7\n",
       "movie_title                    0\n",
       "num_voted_users                0\n",
       "cast_total_facebook_likes      0\n",
       "actor_3_name                  23\n",
       "facenumber_in_poster          13\n",
       "plot_keywords                153\n",
       "movie_imdb_link                0\n",
       "num_user_for_reviews          21\n",
       "language                      14\n",
       "country                        5\n",
       "content_rating               303\n",
       "budget                         0\n",
       "title_year                   108\n",
       "actor_2_facebook_likes        13\n",
       "imdb_score                     0\n",
       "aspect_ratio                 329\n",
       "movie_facebook_likes           0\n",
       "dtype: int64"
      ]
     },
     "execution_count": 181,
     "metadata": {},
     "output_type": "execute_result"
    }
   ],
   "source": [
    "#As we can see \"duration\" column, as well as many other columns, has missing values. Let´s find out how many...\n",
    "IMDb_df.isnull().sum()"
   ]
  },
  {
   "cell_type": "code",
   "execution_count": 182,
   "id": "86f1425a-32d6-4c82-9ea8-bae3dc6f0bfa",
   "metadata": {},
   "outputs": [
    {
     "data": {
      "text/plain": [
       "15"
      ]
     },
     "execution_count": 182,
     "metadata": {},
     "output_type": "execute_result"
    }
   ],
   "source": [
    "IMDb_df[\"duration\"].isnull().sum()"
   ]
  },
  {
   "cell_type": "markdown",
   "id": "a916cd75-fa28-40a9-925d-b7a09e41d1f8",
   "metadata": {},
   "source": [
    "The answer as shown above, is that the \"duration\" column has 15 missing values."
   ]
  },
  {
   "cell_type": "markdown",
   "id": "ffe9158c-65c6-4e09-845d-1bdf960e5f8e",
   "metadata": {},
   "source": [
    "#### 1.3. Replace the missing values in the duration column with the median value for this column."
   ]
  },
  {
   "cell_type": "code",
   "execution_count": 183,
   "id": "0ae27d6d-72c5-411e-a0cf-1d5677e36f5b",
   "metadata": {},
   "outputs": [
    {
     "data": {
      "text/plain": [
       "107.2010739856802"
      ]
     },
     "execution_count": 183,
     "metadata": {},
     "output_type": "execute_result"
    }
   ],
   "source": [
    "IMDb_df[\"duration\"].mean()"
   ]
  },
  {
   "cell_type": "code",
   "execution_count": 184,
   "id": "eade16e6-ab38-4fd8-b77c-ddf0391f8510",
   "metadata": {
    "scrolled": true
   },
   "outputs": [
    {
     "name": "stderr",
     "output_type": "stream",
     "text": [
      "C:\\Users\\ANDRES\\AppData\\Local\\Temp\\ipykernel_9096\\2721681831.py:2: FutureWarning: A value is trying to be set on a copy of a DataFrame or Series through chained assignment using an inplace method.\n",
      "The behavior will change in pandas 3.0. This inplace method will never work because the intermediate object on which we are setting values always behaves as a copy.\n",
      "\n",
      "For example, when doing 'df[col].method(value, inplace=True)', try using 'df.method({col: value}, inplace=True)' or df[col] = df[col].method(value) instead, to perform the operation inplace on the original object.\n",
      "\n",
      "\n",
      "  IMDb_df[\"duration\"].fillna(IMDb_df[\"duration\"].mean(), inplace=True)\n"
     ]
    }
   ],
   "source": [
    "#Replace Missing values of duration column with the median of that column and also make sure with \"inplace=True\" that the df stores the changes.\n",
    "IMDb_df[\"duration\"].fillna(IMDb_df[\"duration\"].mean(), inplace=True)"
   ]
  },
  {
   "cell_type": "code",
   "execution_count": 185,
   "id": "cfd10537-85df-4ad3-98bc-2d6584213702",
   "metadata": {},
   "outputs": [
    {
     "data": {
      "text/plain": [
       "0"
      ]
     },
     "execution_count": 185,
     "metadata": {},
     "output_type": "execute_result"
    }
   ],
   "source": [
    "IMDb_df[\"duration\"].isnull().sum()"
   ]
  },
  {
   "cell_type": "markdown",
   "id": "792e2d25-f15a-445f-b19e-7691e1b336f7",
   "metadata": {},
   "source": [
    "#### 1.4. What is the average film length? Give the answer as a floating-point figure rounded to two decimal places."
   ]
  },
  {
   "cell_type": "code",
   "execution_count": 186,
   "id": "a50fcaf4-f857-457d-a898-79ac3499832d",
   "metadata": {},
   "outputs": [
    {
     "data": {
      "text/plain": [
       "107.2"
      ]
     },
     "execution_count": 186,
     "metadata": {},
     "output_type": "execute_result"
    }
   ],
   "source": [
    "avg_film_length = IMDb_df[\"duration\"].mean()\n",
    "#rounded to 2 decimal places\n",
    "avg_film_length = round(avg_film_length, 2)\n",
    "avg_film_length"
   ]
  },
  {
   "cell_type": "code",
   "execution_count": 187,
   "id": "6f16f55e-5863-4930-b0c1-b9fe62bb3eb1",
   "metadata": {},
   "outputs": [
    {
     "data": {
      "text/plain": [
       "dtype('float64')"
      ]
     },
     "execution_count": 187,
     "metadata": {},
     "output_type": "execute_result"
    }
   ],
   "source": [
    "avg_film_length.dtype"
   ]
  },
  {
   "cell_type": "markdown",
   "id": "eb4f4d64-3541-4883-be05-510279b65922",
   "metadata": {},
   "source": [
    "#### 1.5. How many films between 90 minutes and two hours long were released in 2008?"
   ]
  },
  {
   "cell_type": "code",
   "execution_count": 188,
   "id": "92f0af12-a586-408d-9c6a-2b8845b4e1f8",
   "metadata": {},
   "outputs": [
    {
     "data": {
      "text/plain": [
       "dtype('int32')"
      ]
     },
     "execution_count": 188,
     "metadata": {},
     "output_type": "execute_result"
    }
   ],
   "source": [
    "IMDb_df['title_year'] = IMDb_df['title_year'].fillna(0).astype(int)\n",
    "IMDb_df[\"title_year\"].dtype"
   ]
  },
  {
   "cell_type": "code",
   "execution_count": 189,
   "id": "adbb60c0-e41d-4731-819f-9a38a1ab683f",
   "metadata": {},
   "outputs": [
    {
     "data": {
      "text/html": [
       "<div>\n",
       "<style scoped>\n",
       "    .dataframe tbody tr th:only-of-type {\n",
       "        vertical-align: middle;\n",
       "    }\n",
       "\n",
       "    .dataframe tbody tr th {\n",
       "        vertical-align: top;\n",
       "    }\n",
       "\n",
       "    .dataframe thead th {\n",
       "        text-align: right;\n",
       "    }\n",
       "</style>\n",
       "<table border=\"1\" class=\"dataframe\">\n",
       "  <thead>\n",
       "    <tr style=\"text-align: right;\">\n",
       "      <th></th>\n",
       "      <th>color</th>\n",
       "      <th>director_name</th>\n",
       "      <th>num_critic_for_reviews</th>\n",
       "      <th>duration</th>\n",
       "      <th>director_facebook_likes</th>\n",
       "      <th>actor_3_facebook_likes</th>\n",
       "      <th>actor_2_name</th>\n",
       "      <th>actor_1_facebook_likes</th>\n",
       "      <th>gross</th>\n",
       "      <th>genres</th>\n",
       "      <th>...</th>\n",
       "      <th>num_user_for_reviews</th>\n",
       "      <th>language</th>\n",
       "      <th>country</th>\n",
       "      <th>content_rating</th>\n",
       "      <th>budget</th>\n",
       "      <th>title_year</th>\n",
       "      <th>actor_2_facebook_likes</th>\n",
       "      <th>imdb_score</th>\n",
       "      <th>aspect_ratio</th>\n",
       "      <th>movie_facebook_likes</th>\n",
       "    </tr>\n",
       "  </thead>\n",
       "  <tbody>\n",
       "    <tr>\n",
       "      <th>12</th>\n",
       "      <td>Color</td>\n",
       "      <td>Marc Forster</td>\n",
       "      <td>403.0</td>\n",
       "      <td>106.0</td>\n",
       "      <td>395.0</td>\n",
       "      <td>393.0</td>\n",
       "      <td>Mathieu Amalric</td>\n",
       "      <td>451.0</td>\n",
       "      <td>168368427.0</td>\n",
       "      <td>Action|Adventure</td>\n",
       "      <td>...</td>\n",
       "      <td>1243.0</td>\n",
       "      <td>English</td>\n",
       "      <td>UK</td>\n",
       "      <td>PG-13</td>\n",
       "      <td>200000000.0$</td>\n",
       "      <td>2008</td>\n",
       "      <td>412.0</td>\n",
       "      <td>6.7</td>\n",
       "      <td>2.35</td>\n",
       "      <td>0</td>\n",
       "    </tr>\n",
       "    <tr>\n",
       "      <th>58</th>\n",
       "      <td>Color</td>\n",
       "      <td>Andrew Stanton</td>\n",
       "      <td>421.0</td>\n",
       "      <td>98.0</td>\n",
       "      <td>475.0</td>\n",
       "      <td>522.0</td>\n",
       "      <td>Fred Willard</td>\n",
       "      <td>1000.0</td>\n",
       "      <td>223806889.0</td>\n",
       "      <td>Adventure|Animation|Family|Sci-Fi</td>\n",
       "      <td>...</td>\n",
       "      <td>1043.0</td>\n",
       "      <td>English</td>\n",
       "      <td>USA</td>\n",
       "      <td>G</td>\n",
       "      <td>180000000.0$</td>\n",
       "      <td>2008</td>\n",
       "      <td>729.0</td>\n",
       "      <td>8.4</td>\n",
       "      <td>2.35</td>\n",
       "      <td>16000</td>\n",
       "    </tr>\n",
       "    <tr>\n",
       "      <th>72</th>\n",
       "      <td>Color</td>\n",
       "      <td>Rob Cohen</td>\n",
       "      <td>264.0</td>\n",
       "      <td>112.0</td>\n",
       "      <td>357.0</td>\n",
       "      <td>595.0</td>\n",
       "      <td>Brendan Fraser</td>\n",
       "      <td>5000.0</td>\n",
       "      <td>102176165.0</td>\n",
       "      <td>Action|Adventure|Fantasy|Horror|Thriller</td>\n",
       "      <td>...</td>\n",
       "      <td>501.0</td>\n",
       "      <td>English</td>\n",
       "      <td>USA</td>\n",
       "      <td>PG-13</td>\n",
       "      <td>145000000.0$</td>\n",
       "      <td>2008</td>\n",
       "      <td>3000.0</td>\n",
       "      <td>5.2</td>\n",
       "      <td>2.35</td>\n",
       "      <td>0</td>\n",
       "    </tr>\n",
       "    <tr>\n",
       "      <th>116</th>\n",
       "      <td>Color</td>\n",
       "      <td>Peter Berg</td>\n",
       "      <td>318.0</td>\n",
       "      <td>102.0</td>\n",
       "      <td>532.0</td>\n",
       "      <td>979.0</td>\n",
       "      <td>Charlize Theron</td>\n",
       "      <td>10000.0</td>\n",
       "      <td>227946274.0</td>\n",
       "      <td>Action|Drama</td>\n",
       "      <td>...</td>\n",
       "      <td>590.0</td>\n",
       "      <td>English</td>\n",
       "      <td>USA</td>\n",
       "      <td>PG-13</td>\n",
       "      <td>150000000.0$</td>\n",
       "      <td>2008</td>\n",
       "      <td>9000.0</td>\n",
       "      <td>6.4</td>\n",
       "      <td>2.35</td>\n",
       "      <td>0</td>\n",
       "    </tr>\n",
       "    <tr>\n",
       "      <th>131</th>\n",
       "      <td>Color</td>\n",
       "      <td>Byron Howard</td>\n",
       "      <td>225.0</td>\n",
       "      <td>96.0</td>\n",
       "      <td>59.0</td>\n",
       "      <td>699.0</td>\n",
       "      <td>Diedrich Bader</td>\n",
       "      <td>17000.0</td>\n",
       "      <td>114053579.0</td>\n",
       "      <td>Adventure|Animation|Comedy|Drama|Family</td>\n",
       "      <td>...</td>\n",
       "      <td>178.0</td>\n",
       "      <td>English</td>\n",
       "      <td>USA</td>\n",
       "      <td>PG</td>\n",
       "      <td>150000000.0$</td>\n",
       "      <td>2008</td>\n",
       "      <td>759.0</td>\n",
       "      <td>6.9</td>\n",
       "      <td>1.85</td>\n",
       "      <td>0</td>\n",
       "    </tr>\n",
       "    <tr>\n",
       "      <th>...</th>\n",
       "      <td>...</td>\n",
       "      <td>...</td>\n",
       "      <td>...</td>\n",
       "      <td>...</td>\n",
       "      <td>...</td>\n",
       "      <td>...</td>\n",
       "      <td>...</td>\n",
       "      <td>...</td>\n",
       "      <td>...</td>\n",
       "      <td>...</td>\n",
       "      <td>...</td>\n",
       "      <td>...</td>\n",
       "      <td>...</td>\n",
       "      <td>...</td>\n",
       "      <td>...</td>\n",
       "      <td>...</td>\n",
       "      <td>...</td>\n",
       "      <td>...</td>\n",
       "      <td>...</td>\n",
       "      <td>...</td>\n",
       "      <td>...</td>\n",
       "    </tr>\n",
       "    <tr>\n",
       "      <th>4665</th>\n",
       "      <td>Color</td>\n",
       "      <td>Daniel Davila</td>\n",
       "      <td>5.0</td>\n",
       "      <td>95.0</td>\n",
       "      <td>0.0</td>\n",
       "      <td>167.0</td>\n",
       "      <td>Melora Walters</td>\n",
       "      <td>940.0</td>\n",
       "      <td>NaN</td>\n",
       "      <td>Drama</td>\n",
       "      <td>...</td>\n",
       "      <td>1.0</td>\n",
       "      <td>English</td>\n",
       "      <td>USA</td>\n",
       "      <td>NaN</td>\n",
       "      <td>850000.0$</td>\n",
       "      <td>2008</td>\n",
       "      <td>188.0</td>\n",
       "      <td>7.4</td>\n",
       "      <td>1.78</td>\n",
       "      <td>18</td>\n",
       "    </tr>\n",
       "    <tr>\n",
       "      <th>4684</th>\n",
       "      <td>Color</td>\n",
       "      <td>Oliver Blackburn</td>\n",
       "      <td>114.0</td>\n",
       "      <td>99.0</td>\n",
       "      <td>4.0</td>\n",
       "      <td>201.0</td>\n",
       "      <td>Nichola Burley</td>\n",
       "      <td>1000.0</td>\n",
       "      <td>18378.0</td>\n",
       "      <td>Crime|Drama|Horror|Thriller</td>\n",
       "      <td>...</td>\n",
       "      <td>74.0</td>\n",
       "      <td>English</td>\n",
       "      <td>UK</td>\n",
       "      <td>R</td>\n",
       "      <td>900000.0$</td>\n",
       "      <td>2008</td>\n",
       "      <td>233.0</td>\n",
       "      <td>5.2</td>\n",
       "      <td>1.85</td>\n",
       "      <td>0</td>\n",
       "    </tr>\n",
       "    <tr>\n",
       "      <th>4804</th>\n",
       "      <td>Color</td>\n",
       "      <td>Tom Vaughan</td>\n",
       "      <td>148.0</td>\n",
       "      <td>101.0</td>\n",
       "      <td>12.0</td>\n",
       "      <td>149.0</td>\n",
       "      <td>Andrew Daly</td>\n",
       "      <td>642.0</td>\n",
       "      <td>80276912.0</td>\n",
       "      <td>Comedy|Romance</td>\n",
       "      <td>...</td>\n",
       "      <td>151.0</td>\n",
       "      <td>English</td>\n",
       "      <td>USA</td>\n",
       "      <td>PG-13</td>\n",
       "      <td>35000000.0$</td>\n",
       "      <td>2008</td>\n",
       "      <td>171.0</td>\n",
       "      <td>6.1</td>\n",
       "      <td>2.35</td>\n",
       "      <td>0</td>\n",
       "    </tr>\n",
       "    <tr>\n",
       "      <th>4874</th>\n",
       "      <td>Color</td>\n",
       "      <td>Rachel Goldenberg</td>\n",
       "      <td>5.0</td>\n",
       "      <td>93.0</td>\n",
       "      <td>7.0</td>\n",
       "      <td>73.0</td>\n",
       "      <td>Mark Hengst</td>\n",
       "      <td>349.0</td>\n",
       "      <td>NaN</td>\n",
       "      <td>Drama|Musical</td>\n",
       "      <td>...</td>\n",
       "      <td>18.0</td>\n",
       "      <td>English</td>\n",
       "      <td>USA</td>\n",
       "      <td>G</td>\n",
       "      <td>0.0$</td>\n",
       "      <td>2008</td>\n",
       "      <td>168.0</td>\n",
       "      <td>2.5</td>\n",
       "      <td>1.85</td>\n",
       "      <td>777</td>\n",
       "    </tr>\n",
       "    <tr>\n",
       "      <th>4888</th>\n",
       "      <td>Color</td>\n",
       "      <td>Nicolas Winding Refn</td>\n",
       "      <td>225.0</td>\n",
       "      <td>92.0</td>\n",
       "      <td>0.0</td>\n",
       "      <td>146.0</td>\n",
       "      <td>James Lance</td>\n",
       "      <td>27000.0</td>\n",
       "      <td>104792.0</td>\n",
       "      <td>Action|Biography|Crime|Drama</td>\n",
       "      <td>...</td>\n",
       "      <td>145.0</td>\n",
       "      <td>English</td>\n",
       "      <td>UK</td>\n",
       "      <td>R</td>\n",
       "      <td>0.0$</td>\n",
       "      <td>2008</td>\n",
       "      <td>161.0</td>\n",
       "      <td>7.1</td>\n",
       "      <td>1.85</td>\n",
       "      <td>22000</td>\n",
       "    </tr>\n",
       "  </tbody>\n",
       "</table>\n",
       "<p>160 rows × 28 columns</p>\n",
       "</div>"
      ],
      "text/plain": [
       "      color         director_name  num_critic_for_reviews  duration  \\\n",
       "12    Color          Marc Forster                   403.0     106.0   \n",
       "58    Color        Andrew Stanton                   421.0      98.0   \n",
       "72    Color             Rob Cohen                   264.0     112.0   \n",
       "116   Color            Peter Berg                   318.0     102.0   \n",
       "131   Color          Byron Howard                   225.0      96.0   \n",
       "...     ...                   ...                     ...       ...   \n",
       "4665  Color         Daniel Davila                     5.0      95.0   \n",
       "4684  Color      Oliver Blackburn                   114.0      99.0   \n",
       "4804  Color           Tom Vaughan                   148.0     101.0   \n",
       "4874  Color     Rachel Goldenberg                     5.0      93.0   \n",
       "4888  Color  Nicolas Winding Refn                   225.0      92.0   \n",
       "\n",
       "      director_facebook_likes  actor_3_facebook_likes     actor_2_name  \\\n",
       "12                      395.0                   393.0  Mathieu Amalric   \n",
       "58                      475.0                   522.0     Fred Willard   \n",
       "72                      357.0                   595.0   Brendan Fraser   \n",
       "116                     532.0                   979.0  Charlize Theron   \n",
       "131                      59.0                   699.0   Diedrich Bader   \n",
       "...                       ...                     ...              ...   \n",
       "4665                      0.0                   167.0   Melora Walters   \n",
       "4684                      4.0                   201.0   Nichola Burley   \n",
       "4804                     12.0                   149.0      Andrew Daly   \n",
       "4874                      7.0                    73.0      Mark Hengst   \n",
       "4888                      0.0                   146.0      James Lance   \n",
       "\n",
       "      actor_1_facebook_likes        gross  \\\n",
       "12                     451.0  168368427.0   \n",
       "58                    1000.0  223806889.0   \n",
       "72                    5000.0  102176165.0   \n",
       "116                  10000.0  227946274.0   \n",
       "131                  17000.0  114053579.0   \n",
       "...                      ...          ...   \n",
       "4665                   940.0          NaN   \n",
       "4684                  1000.0      18378.0   \n",
       "4804                   642.0   80276912.0   \n",
       "4874                   349.0          NaN   \n",
       "4888                 27000.0     104792.0   \n",
       "\n",
       "                                        genres  ... num_user_for_reviews  \\\n",
       "12                            Action|Adventure  ...               1243.0   \n",
       "58           Adventure|Animation|Family|Sci-Fi  ...               1043.0   \n",
       "72    Action|Adventure|Fantasy|Horror|Thriller  ...                501.0   \n",
       "116                               Action|Drama  ...                590.0   \n",
       "131    Adventure|Animation|Comedy|Drama|Family  ...                178.0   \n",
       "...                                        ...  ...                  ...   \n",
       "4665                                     Drama  ...                  1.0   \n",
       "4684               Crime|Drama|Horror|Thriller  ...                 74.0   \n",
       "4804                            Comedy|Romance  ...                151.0   \n",
       "4874                             Drama|Musical  ...                 18.0   \n",
       "4888              Action|Biography|Crime|Drama  ...                145.0   \n",
       "\n",
       "     language  country  content_rating        budget  title_year  \\\n",
       "12    English       UK           PG-13  200000000.0$        2008   \n",
       "58    English      USA               G  180000000.0$        2008   \n",
       "72    English      USA           PG-13  145000000.0$        2008   \n",
       "116   English      USA           PG-13  150000000.0$        2008   \n",
       "131   English      USA              PG  150000000.0$        2008   \n",
       "...       ...      ...             ...           ...         ...   \n",
       "4665  English      USA             NaN     850000.0$        2008   \n",
       "4684  English       UK               R     900000.0$        2008   \n",
       "4804  English      USA           PG-13   35000000.0$        2008   \n",
       "4874  English      USA               G          0.0$        2008   \n",
       "4888  English       UK               R          0.0$        2008   \n",
       "\n",
       "     actor_2_facebook_likes imdb_score  aspect_ratio movie_facebook_likes  \n",
       "12                    412.0        6.7          2.35                    0  \n",
       "58                    729.0        8.4          2.35                16000  \n",
       "72                   3000.0        5.2          2.35                    0  \n",
       "116                  9000.0        6.4          2.35                    0  \n",
       "131                   759.0        6.9          1.85                    0  \n",
       "...                     ...        ...           ...                  ...  \n",
       "4665                  188.0        7.4          1.78                   18  \n",
       "4684                  233.0        5.2          1.85                    0  \n",
       "4804                  171.0        6.1          2.35                    0  \n",
       "4874                  168.0        2.5          1.85                  777  \n",
       "4888                  161.0        7.1          1.85                22000  \n",
       "\n",
       "[160 rows x 28 columns]"
      ]
     },
     "execution_count": 189,
     "metadata": {},
     "output_type": "execute_result"
    }
   ],
   "source": [
    "films_condition = IMDb_df[(IMDb_df[\"duration\"] >= 90) & (IMDb_df[\"duration\"] <= 120) & (IMDb_df[\"title_year\"] == 2008)]\n",
    "films_condition"
   ]
  },
  {
   "cell_type": "code",
   "execution_count": 190,
   "id": "79fbb536-f1d2-4fa6-aed7-121b80d5ca21",
   "metadata": {},
   "outputs": [
    {
     "data": {
      "text/plain": [
       "160"
      ]
     },
     "execution_count": 190,
     "metadata": {},
     "output_type": "execute_result"
    }
   ],
   "source": [
    "#The number of films between 90 minutes and two hours long released in 2008 are 160\n",
    "\n",
    "len(films_condition)"
   ]
  },
  {
   "cell_type": "markdown",
   "id": "e766b703-df4d-46c6-a03d-9767924c3e0b",
   "metadata": {},
   "source": [
    "#### 1.6. The budget column contains the film's budget. What is the median budget for all the films listed? Give the answer as an integer."
   ]
  },
  {
   "cell_type": "code",
   "execution_count": 191,
   "id": "e75a393f-2e0d-4b32-ace5-e92b5dfbbeb1",
   "metadata": {},
   "outputs": [
    {
     "data": {
      "text/plain": [
       "15000000"
      ]
     },
     "execution_count": 191,
     "metadata": {},
     "output_type": "execute_result"
    }
   ],
   "source": [
    "#I need first to remove the $ sign in the budget column so that I can calculate the median\n",
    "IMDb_df['budget'] = IMDb_df['budget'].replace('[$,]', '', regex=True).astype(float)\n",
    "median_budget = IMDb_df[\"budget\"].median()\n",
    "median_budget = int(median_budget)\n",
    "median_budget"
   ]
  },
  {
   "cell_type": "markdown",
   "id": "65f157e8-1938-4f2f-afc5-9ebc142b6986",
   "metadata": {
    "jp-MarkdownHeadingCollapsed": true
   },
   "source": [
    "time spent: 25 min"
   ]
  },
  {
   "cell_type": "markdown",
   "id": "a1c3b19e-7566-4fc7-bd0b-1c7029b3970e",
   "metadata": {},
   "source": [
    "## Task 2. Answering student questions"
   ]
  },
  {
   "cell_type": "markdown",
   "id": "f1e15c2c-28ee-4997-9a7b-6e024b38436a",
   "metadata": {},
   "source": [
    "How would you answer the student's question below? Your task is to get your message across in such a way that a beginner can understand your explanation. You can do this any way you want (pictures, GIFs, metaphors, anything) so long as it makes your explanation clear. Indicate how much time you spent completing this task.\n",
    "\n",
    "**What is the difference between DataFrame and Series?**\n"
   ]
  },
  {
   "cell_type": "markdown",
   "id": "cd1f0c60-143a-4e29-8973-b7318f4660db",
   "metadata": {},
   "source": [
    "While we are talking inside Pandas word now, there are two main Data Structures:\n",
    "*Data Frames* and *Data Series*, Data Frames are \"bigger\" than Data Series and include Data Series in its structure.\n",
    "\n",
    "Imagine we make a paralelism with an excel sheet:\n",
    "\n",
    "DataFrames: if we have an excel spreadsheet with multiple rows and columns, then each column will represent a different category of information. For example if we have an employee spreadsheet, then the columns might be \"Employee_ID\", \"Employee_Name\", \"Employee_Age\", and the rows will represent each different employee in the company, each specific employee. So a Data Frame is like the **entire spreadsheet** with all the data contained in an organized and structured way. Data Frame would be the whole package.\n",
    "\n",
    "DataSeres: Now, if we focus in only one specific column in that spreadsheet, a Data Series would be a particular and **specific column**. It represents the secuence of data points belonging to the same category. For example \"Employee_Name\" or \"Employee_Age\". So a Series would be a single column of a spreadsheet.\n",
    "\n"
   ]
  },
  {
   "attachments": {
    "53e78fd8-ddeb-4d86-b415-46f47bc5e094.png": {
     "image/png": "[encoded data removed]"
    }
   },
   "cell_type": "markdown",
   "id": "0fe18ab7-2a2f-4224-a84f-4aa0769ec405",
   "metadata": {},
   "source": [
    "So, to sum up, a DF could be represented as the full Excel containing all the data, while the DS is one specific column.\n",
    "![DS&DF.png](attachment:53e78fd8-ddeb-4d86-b415-46f47bc5e094.png)"
   ]
  },
  {
   "cell_type": "markdown",
   "id": "f39c76b1-296a-4a88-ad1c-d8b396533c3d",
   "metadata": {},
   "source": [
    "time spent: 10 min"
   ]
  },
  {
   "cell_type": "markdown",
   "id": "d835a044-791a-4292-91b6-9026fa76b5e8",
   "metadata": {},
   "source": [
    "## Task 3. Task on probability theory"
   ]
  },
  {
   "cell_type": "markdown",
   "id": "730983f3-54a8-41d1-878a-67a9c0e48a0f",
   "metadata": {},
   "source": [
    "E(X) = 0.5\n",
    "Var(X) = 2\n",
    "E(Y) = 7\n",
    "Var(Y) = 3.5\n",
    "cov (X, Y) = -0.8\n",
    "Find the variance of the random variable Z = 2X - 3Y"
   ]
  },
  {
   "cell_type": "markdown",
   "id": "01853d2d-79fb-4705-9268-5fef44f22f6d",
   "metadata": {},
   "source": [
    "To solve this problem I need to apply some Variance and Cov properties for random variables:\n",
    "\n",
    "1. VAR(X+Y) = VAR(X) + VAR(Y) + 2Cov(X,Y)\n",
    "2. Cov(aX,bY) = abCov(X,Y)\n",
    "3. VAR(aX) = a²*VAR(x)\n",
    "\n",
    "So applying this we would have that:\n",
    "\n",
    "VAR(Z) = VAR(2X) + VAR(-3Y) + 2Cov(2X, -3Y) --> Applying Prop 1\n",
    "VAR(Z) = VAR(2X) + VAR(-3Y) - 12Cov(X,Y) --> Applying Prop 2\n",
    "VAR(Z) = 4VAR(X) + 9VAR(Y)-12Cov(X,Y) --> Applying Prop 3"
   ]
  },
  {
   "cell_type": "code",
   "execution_count": 192,
   "id": "b4d1db4b-b1ed-4cee-a88e-345ef440ff4d",
   "metadata": {},
   "outputs": [
    {
     "data": {
      "text/plain": [
       "49.1"
      ]
     },
     "execution_count": 192,
     "metadata": {},
     "output_type": "execute_result"
    }
   ],
   "source": [
    "#replacing values:\n",
    "\n",
    "VAR_Z = 4*2+9*3.5-12*-0.8\n",
    "VAR_Z"
   ]
  },
  {
   "cell_type": "markdown",
   "id": "84d60d9d-e1e0-4b17-a3f0-32d0dac35af1",
   "metadata": {},
   "source": [
    "#### Task 4. Task for Data Science course"
   ]
  },
  {
   "cell_type": "code",
   "execution_count": 193,
   "id": "41465dc3-bab6-4b67-9e24-68c5862b8a5b",
   "metadata": {},
   "outputs": [
    {
     "data": {
      "text/plain": [
       "0.298"
      ]
     },
     "execution_count": 193,
     "metadata": {},
     "output_type": "execute_result"
    }
   ],
   "source": [
    "Omer_MSE = (400*(0.5)**2 + 100*(0.7)**2)/500\n",
    "Omer_MSE"
   ]
  },
  {
   "cell_type": "markdown",
   "id": "0275f8d9-b956-4d21-823e-93d1c9a44a84",
   "metadata": {},
   "source": [
    "If Limor changes all the answers by a constant value, the differences will be now (0.5 + constant) and (0.7 - constant)\n",
    "so\n",
    "Limor_MSE = (400*(0.5 + c)**2 + 100*(0.7 - c)**2)/500\n",
    "\n",
    "we need to find first c for which MSE is minimized, so we need to do \n",
    "\n",
    "d(Limor_MSE)/dC = 0 \n",
    "\n",
    "and find c\n",
    "\n",
    "0 = (800(0.5+c)+200(0.7-c))/500\n",
    "\n",
    "c = -9/11\n",
    "\n",
    "Now we replace c"
   ]
  },
  {
   "cell_type": "code",
   "execution_count": 194,
   "id": "a0f3b710-6983-414c-ad3c-a1c942b75929",
   "metadata": {},
   "outputs": [
    {
     "data": {
      "text/plain": [
       "0.5419669421487603"
      ]
     },
     "execution_count": 194,
     "metadata": {},
     "output_type": "execute_result"
    }
   ],
   "source": [
    "c = -9/11\n",
    "Limor_MSE = (400/500)*(0.5 + c)**2 + (100/500)*(0.7 - c)**2\n",
    "Limor_MSE"
   ]
  },
  {
   "cell_type": "code",
   "execution_count": null,
   "id": "e15367b6-274c-4e0e-b53e-0ee6ad1e3087",
   "metadata": {},
   "outputs": [],
   "source": []
  }
 ],
 "metadata": {
  "kernelspec": {
   "display_name": "Python 3 (ipykernel)",
   "language": "python",
   "name": "python3"
  },
  "language_info": {
   "codemirror_mode": {
    "name": "ipython",
    "version": 3
   },
   "file_extension": ".py",
   "mimetype": "text/x-python",
   "name": "python",
   "nbconvert_exporter": "python",
   "pygments_lexer": "ipython3",
   "version": "3.12.2"
  }
 },
 "nbformat": 4,
 "nbformat_minor": 5
}
